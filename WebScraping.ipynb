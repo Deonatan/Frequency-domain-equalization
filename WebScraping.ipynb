{
 "cells": [
  {
   "cell_type": "code",
   "execution_count": 1,
   "metadata": {},
   "outputs": [],
   "source": [
    "import numpy as np \n",
    "import pandas as pd"
   ]
  },
  {
   "cell_type": "code",
   "execution_count": 2,
   "metadata": {},
   "outputs": [
    {
     "data": {
      "text/plain": [
       "[             0                                                  1\n",
       " 0         Sony  WH-H910N/h.ear on 3 Wireless  WH-1000XM4 Wirel...\n",
       " 1        Beats  Flex Wireless  Studio3 Wireless  Solo Pro Wire...\n",
       " 2   Skullcandy  Dime True Wireless Indy ANC True Wireless  Ses...\n",
       " 3         Bose  Sport Earbuds Truly Wireless  QuietComfort Ear...\n",
       " 4        Jabra  Elite 85t Truly Wireless  Elite Active 75t Tru...\n",
       " 5          JBL  Tune 225TWS True Wireless  Tune 125TWS Truly W...\n",
       " 6      Samsung  Galaxy Buds Pro Truly Wireless  Galaxy Buds Li...\n",
       " 7        Apple  AirPods Max Wireless  AirPods Pro Truly Wirele...\n",
       " 8   Sennheiser  CX 400BT True Wireless  MOMENTUM True Wireless...\n",
       " 9        Razer  Kraken X  BlackShark V2  Hammerhead True Wirel...\n",
       " 10       Astro  A10  A50 Gen 4 Wireless 2019  A40 TR Headset +...]"
      ]
     },
     "execution_count": 2,
     "metadata": {},
     "output_type": "execute_result"
    }
   ],
   "source": [
    "web_page = pd.read_html('https://www.rtings.com/headphones/graph#469/3992')\n",
    "web_page"
   ]
  },
  {
   "cell_type": "code",
   "execution_count": 5,
   "metadata": {},
   "outputs": [
    {
     "data": {
      "text/html": [
       "<div>\n",
       "<style scoped>\n",
       "    .dataframe tbody tr th:only-of-type {\n",
       "        vertical-align: middle;\n",
       "    }\n",
       "\n",
       "    .dataframe tbody tr th {\n",
       "        vertical-align: top;\n",
       "    }\n",
       "\n",
       "    .dataframe thead th {\n",
       "        text-align: right;\n",
       "    }\n",
       "</style>\n",
       "<table border=\"1\" class=\"dataframe\">\n",
       "  <thead>\n",
       "    <tr style=\"text-align: right;\">\n",
       "      <th></th>\n",
       "      <th>0</th>\n",
       "      <th>1</th>\n",
       "    </tr>\n",
       "  </thead>\n",
       "  <tbody>\n",
       "    <tr>\n",
       "      <th>0</th>\n",
       "      <td>Sony</td>\n",
       "      <td>WH-H910N/h.ear on 3 Wireless  WH-1000XM4 Wirel...</td>\n",
       "    </tr>\n",
       "    <tr>\n",
       "      <th>1</th>\n",
       "      <td>Beats</td>\n",
       "      <td>Flex Wireless  Studio3 Wireless  Solo Pro Wire...</td>\n",
       "    </tr>\n",
       "    <tr>\n",
       "      <th>2</th>\n",
       "      <td>Skullcandy</td>\n",
       "      <td>Dime True Wireless Indy ANC True Wireless  Ses...</td>\n",
       "    </tr>\n",
       "    <tr>\n",
       "      <th>3</th>\n",
       "      <td>Bose</td>\n",
       "      <td>Sport Earbuds Truly Wireless  QuietComfort Ear...</td>\n",
       "    </tr>\n",
       "    <tr>\n",
       "      <th>4</th>\n",
       "      <td>Jabra</td>\n",
       "      <td>Elite 85t Truly Wireless  Elite Active 75t Tru...</td>\n",
       "    </tr>\n",
       "    <tr>\n",
       "      <th>5</th>\n",
       "      <td>JBL</td>\n",
       "      <td>Tune 225TWS True Wireless  Tune 125TWS Truly W...</td>\n",
       "    </tr>\n",
       "    <tr>\n",
       "      <th>6</th>\n",
       "      <td>Samsung</td>\n",
       "      <td>Galaxy Buds Pro Truly Wireless  Galaxy Buds Li...</td>\n",
       "    </tr>\n",
       "    <tr>\n",
       "      <th>7</th>\n",
       "      <td>Apple</td>\n",
       "      <td>AirPods Max Wireless  AirPods Pro Truly Wirele...</td>\n",
       "    </tr>\n",
       "    <tr>\n",
       "      <th>8</th>\n",
       "      <td>Sennheiser</td>\n",
       "      <td>CX 400BT True Wireless  MOMENTUM True Wireless...</td>\n",
       "    </tr>\n",
       "    <tr>\n",
       "      <th>9</th>\n",
       "      <td>Razer</td>\n",
       "      <td>Kraken X  BlackShark V2  Hammerhead True Wirel...</td>\n",
       "    </tr>\n",
       "    <tr>\n",
       "      <th>10</th>\n",
       "      <td>Astro</td>\n",
       "      <td>A10  A50 Gen 4 Wireless 2019  A40 TR Headset +...</td>\n",
       "    </tr>\n",
       "  </tbody>\n",
       "</table>\n",
       "</div>"
      ],
      "text/plain": [
       "             0                                                  1\n",
       "0         Sony  WH-H910N/h.ear on 3 Wireless  WH-1000XM4 Wirel...\n",
       "1        Beats  Flex Wireless  Studio3 Wireless  Solo Pro Wire...\n",
       "2   Skullcandy  Dime True Wireless Indy ANC True Wireless  Ses...\n",
       "3         Bose  Sport Earbuds Truly Wireless  QuietComfort Ear...\n",
       "4        Jabra  Elite 85t Truly Wireless  Elite Active 75t Tru...\n",
       "5          JBL  Tune 225TWS True Wireless  Tune 125TWS Truly W...\n",
       "6      Samsung  Galaxy Buds Pro Truly Wireless  Galaxy Buds Li...\n",
       "7        Apple  AirPods Max Wireless  AirPods Pro Truly Wirele...\n",
       "8   Sennheiser  CX 400BT True Wireless  MOMENTUM True Wireless...\n",
       "9        Razer  Kraken X  BlackShark V2  Hammerhead True Wirel...\n",
       "10       Astro  A10  A50 Gen 4 Wireless 2019  A40 TR Headset +..."
      ]
     },
     "execution_count": 5,
     "metadata": {},
     "output_type": "execute_result"
    }
   ],
   "source": [
    "web_page[0]"
   ]
  },
  {
   "cell_type": "code",
   "execution_count": null,
   "metadata": {},
   "outputs": [],
   "source": []
  }
 ],
 "metadata": {
  "kernelspec": {
   "display_name": "Python 3",
   "language": "python",
   "name": "python3"
  },
  "language_info": {
   "codemirror_mode": {
    "name": "ipython",
    "version": 3
   },
   "file_extension": ".py",
   "mimetype": "text/x-python",
   "name": "python",
   "nbconvert_exporter": "python",
   "pygments_lexer": "ipython3",
   "version": "3.8.5"
  }
 },
 "nbformat": 4,
 "nbformat_minor": 4
}
